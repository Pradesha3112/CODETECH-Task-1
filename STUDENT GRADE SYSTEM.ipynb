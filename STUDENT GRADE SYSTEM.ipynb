{
 "cells": [
  {
   "cell_type": "markdown",
   "metadata": {},
   "source": [
    "STUDENT GRADE TRACKER"
   ]
  },
  {
   "cell_type": "markdown",
   "metadata": {},
   "source": [
    "INPUT FROM USER: \n",
    "*Number of subjects \n",
    "*Grade for corresponding subjects\n",
    "\n",
    "OPERATION:\n",
    "*Calculate Average grade\n",
    "*Display the overall grade along with letter grade "
   ]
  },
  {
   "cell_type": "code",
   "execution_count": 8,
   "metadata": {},
   "outputs": [
    {
     "name": "stdout",
     "output_type": "stream",
     "text": [
      "Defaulting to user installation because normal site-packages is not writeable\n",
      "Collecting tabulate\n",
      "  Downloading tabulate-0.9.0-py3-none-any.whl.metadata (34 kB)\n",
      "Downloading tabulate-0.9.0-py3-none-any.whl (35 kB)\n",
      "Installing collected packages: tabulate\n",
      "Successfully installed tabulate-0.9.0\n"
     ]
    },
    {
     "name": "stderr",
     "output_type": "stream",
     "text": [
      "\n",
      "[notice] A new release of pip is available: 24.2 -> 24.3.1\n",
      "[notice] To update, run: C:\\Users\\USER\\AppData\\Local\\Microsoft\\WindowsApps\\PythonSoftwareFoundation.Python.3.12_qbz5n2kfra8p0\\python.exe -m pip install --upgrade pip\n"
     ]
    }
   ],
   "source": [
    "!pip install tabulate\n",
    "from tabulate import tabulate\n"
   ]
  },
  {
   "cell_type": "code",
   "execution_count": 5,
   "metadata": {},
   "outputs": [
    {
     "name": "stdout",
     "output_type": "stream",
     "text": [
      "\n",
      "-----GRADE REPORT-----\n",
      "+-----------+---------+\n",
      "| Subject   |   Grade |\n",
      "+===========+=========+\n",
      "| tam       |      90 |\n",
      "+-----------+---------+\n",
      "| eng       |     100 |\n",
      "+-----------+---------+\n",
      "TOTAL: 190.0\n",
      "AVERAGE:95.00\n",
      "LETTER GRADE: A\n"
     ]
    }
   ],
   "source": [
    "from tabulate import tabulate\n",
    "\n",
    "# Input number of subjects and grades\n",
    "tot_sub = int(input(\"Enter number of subjects: \"))\n",
    "grade = {}\n",
    "\n",
    "for i in range(tot_sub):\n",
    "    sub = input(\"Enter subject name: \")\n",
    "    g = float(input(\"Enter the grade: \"))\n",
    "    while g < 0 or g > 100:\n",
    "        print(\"Enter the grade between the range 0 to 100\")\n",
    "        g = float(input(\"Enter the grade: \"))\n",
    "    grade[sub] = g\n",
    "\n",
    "# Calculate total and average\n",
    "total = sum(grade.values())\n",
    "avg = total / tot_sub\n",
    "\n",
    "# Determine letter grade\n",
    "if avg >= 90:\n",
    "    lg='A'\n",
    "elif avg < 90 and avg >=80:\n",
    "    lg='B'\n",
    "elif avg < 80 and avg>=70:\n",
    "    lg='C'\n",
    "elif avg < 70 and avg >=60:\n",
    "    lg='D'\n",
    "else:\n",
    "    lg='F'\n",
    "# Prepare data for table\n",
    "table = [[sub, gr] for sub, gr in grade.items()]  # Convert dictionary to list of lists\n",
    "\n",
    "# Print the table\n",
    "print(\"\\n-----GRADE REPORT-----\")\n",
    "print(tabulate(table, headers=[\"Subject\", \"Grade\"], tablefmt=\"grid\"))\n",
    "print(\"TOTAL:\",total)\n",
    "print(f\"AVERAGE:{avg:.2f}\")\n",
    "print(\"LETTER GRADE:\",lg)"
   ]
  }
 ],
 "metadata": {
  "kernelspec": {
   "display_name": "Python 3",
   "language": "python",
   "name": "python3"
  },
  "language_info": {
   "codemirror_mode": {
    "name": "ipython",
    "version": 3
   },
   "file_extension": ".py",
   "mimetype": "text/x-python",
   "name": "python",
   "nbconvert_exporter": "python",
   "pygments_lexer": "ipython3",
   "version": "3.12.7"
  }
 },
 "nbformat": 4,
 "nbformat_minor": 2
}
